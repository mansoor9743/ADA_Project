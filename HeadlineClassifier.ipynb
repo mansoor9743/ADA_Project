{
 "cells": [
  {
   "cell_type": "code",
   "execution_count": 1,
   "metadata": {},
   "outputs": [],
   "source": [
    "## Imports\n",
    "import pandas as pd\n",
    "import matplotlib.pyplot as plt\n",
    "import seaborn as sns\n",
    "import numpy as np\n",
    "from textblob.classifiers import NaiveBayesClassifier\n",
    "\n",
    "from helpers import *\n",
    "%matplotlib inline"
   ]
  },
  {
   "cell_type": "markdown",
   "metadata": {},
   "source": [
    "# Fake news detector from headlines"
   ]
  },
  {
   "cell_type": "markdown",
   "metadata": {},
   "source": [
    "Most of the time we have to deal with a great amount of news that try to be \"catchy\" from their title or headline but they eventually reveal themselves as false or barely reliable. We can try to train a model to detect fake news from headlines."
   ]
  },
  {
   "cell_type": "markdown",
   "metadata": {},
   "source": [
    "## Data loading and preparation"
   ]
  },
  {
   "cell_type": "code",
   "execution_count": 2,
   "metadata": {},
   "outputs": [],
   "source": [
    "## Define paths\n",
    "DATA_FOLDER = './data/'\n",
    "TRAIN_PATH = DATA_FOLDER + 'train.tsv'\n",
    "TEST_PATH = DATA_FOLDER + 'test.tsv'\n",
    "VALID_PATH = DATA_FOLDER + 'valid.tsv'"
   ]
  },
  {
   "cell_type": "code",
   "execution_count": 3,
   "metadata": {},
   "outputs": [],
   "source": [
    "CLEAN_TRAIN = DATA_FOLDER + \"train_clean.txt\"\n",
    "CLEAN_TEST = DATA_FOLDER + \"test_clean.txt\"\n",
    "CLEAN_VALID = DATA_FOLDER + \"valid_clean.txt\""
   ]
  },
  {
   "cell_type": "code",
   "execution_count": 4,
   "metadata": {},
   "outputs": [],
   "source": [
    "# Loading data from politifact\n",
    "\n",
    "pol_train_set = pd.read_pickle(\"data/train_politifact\")\n",
    "pol_test_set = pd.read_pickle(\"data/test_politifact\")\n",
    "pol_valid_set = pd.read_pickle(\"data/valid_politifact\")\n",
    "\n",
    "train_hd = pol_train_set[[\"id\", \"ruling_headline\"]]\n",
    "test_hd = pol_test_set[[\"id\", \"ruling_headline\"]]\n",
    "valid_hd = pol_valid_set[[\"id\", \"ruling_headline\"]]"
   ]
  },
  {
   "cell_type": "code",
   "execution_count": 5,
   "metadata": {},
   "outputs": [],
   "source": [
    "# Loading data and convert labels in \"dummy scale\"\n",
    "\n",
    "train_data = load_data(TRAIN_PATH)\n",
    "test_data = load_data(TEST_PATH)\n",
    "valid_data = load_data(VALID_PATH)\n",
    "\n",
    "train_data.label = convert_label(train_data)\n",
    "test_data.label = convert_label(test_data)\n",
    "valid_data.label = convert_label(valid_data)"
   ]
  },
  {
   "cell_type": "code",
   "execution_count": 6,
   "metadata": {},
   "outputs": [],
   "source": [
    "# Merging with the liar dataset and taking labels\n",
    "\n",
    "train_data[\"id_clean\"] = train_data.ID.str[:-5]\n",
    "train_data.id_clean = pd.to_numeric(train_data.id_clean)\n",
    "\n",
    "test_data[\"id_clean\"] = test_data.ID.str[:-5]\n",
    "test_data.id_clean = pd.to_numeric(test_data.id_clean)\n",
    "\n",
    "valid_data[\"id_clean\"] = valid_data.ID.str[:-5]\n",
    "valid_data.id_clean = pd.to_numeric(valid_data.id_clean)\n",
    "\n",
    "train_hd = train_hd.merge(train_data, left_on=\"id\", right_on=\"id_clean\")[[\"ruling_headline\", \"label\"]]\n",
    "test_hd = test_hd.merge(test_data, left_on=\"id\", right_on=\"id_clean\")[[\"ruling_headline\", \"label\"]]\n",
    "valid_hd = valid_hd.merge(valid_data, left_on=\"id\", right_on=\"id_clean\")[[\"ruling_headline\", \"label\"]]"
   ]
  },
  {
   "cell_type": "markdown",
   "metadata": {},
   "source": [
    "## Data exploration"
   ]
  },
  {
   "cell_type": "code",
   "execution_count": 7,
   "metadata": {},
   "outputs": [
    {
     "name": "stdout",
     "output_type": "stream",
     "text": [
      "Train data dimension: 10238\n",
      "Test data dimension: 1266\n",
      "Validation data dimension: 1284\n"
     ]
    }
   ],
   "source": [
    "# Dimension of the data\n",
    "\n",
    "# Train\n",
    "print(\"Train data dimension:\", train_hd.shape[0])\n",
    "\n",
    "# Test\n",
    "print(\"Test data dimension:\", test_hd.shape[0])\n",
    "\n",
    "# Validation\n",
    "print(\"Validation data dimension:\", valid_hd.shape[0])"
   ]
  },
  {
   "cell_type": "code",
   "execution_count": 8,
   "metadata": {},
   "outputs": [
    {
     "name": "stdout",
     "output_type": "stream",
     "text": [
      "Train set, average ruling_headline length in words: 12.344207853096307\n",
      "Test set, average ruling_headline length in words: 12.268562401263823\n",
      "Validation set, average ruling_headline length in words: 12.29595015576324\n"
     ]
    }
   ],
   "source": [
    "# Mean of the number of words per headline\n",
    "\n",
    "# Train\n",
    "print(\"Train set, average ruling_headline length in words:\", np.mean(train_hd.ruling_headline.str.split().str.len()))\n",
    "\n",
    "# Test\n",
    "print(\"Test set, average ruling_headline length in words:\", np.mean(test_hd.ruling_headline.str.split().str.len()))\n",
    "\n",
    "# Validation\n",
    "print(\"Validation set, average ruling_headline length in words:\", np.mean(valid_hd.ruling_headline.str.split().str.len()))"
   ]
  },
  {
   "cell_type": "code",
   "execution_count": 9,
   "metadata": {},
   "outputs": [
    {
     "name": "stdout",
     "output_type": "stream",
     "text": [
      "Train set, median value of the ruling_headline length in words: 12.0\n",
      "Test set, median value of the ruling_headline length in words: 12.0\n",
      "Validation set, median value of the ruling_headline length in words: 12.0\n"
     ]
    }
   ],
   "source": [
    "# Median of the number of words per headline\n",
    "\n",
    "# Train\n",
    "print(\"Train set, median value of the ruling_headline length in words:\", np.median(train_hd.ruling_headline.str.split().str.len()))\n",
    "\n",
    "# Test\n",
    "print(\"Test set, median value of the ruling_headline length in words:\", np.median(test_hd.ruling_headline.str.split().str.len()))\n",
    "\n",
    "# Validation\n",
    "print(\"Validation set, median value of the ruling_headline length in words:\", np.median(valid_hd.ruling_headline.str.split().str.len()))"
   ]
  },
  {
   "cell_type": "code",
   "execution_count": 10,
   "metadata": {},
   "outputs": [
    {
     "data": {
      "image/png": "[encoded data removed]",
      "text/plain": [
       "<Figure size 432x288 with 1 Axes>"
      ]
     },
     "metadata": {
      "needs_background": "light"
     },
     "output_type": "display_data"
    }
   ],
   "source": [
    "# Distribution of the lengths of the statements\n",
    "\n",
    "# Train\n",
    "plot_length_statement_distr(train_hd.ruling_headline)"
   ]
  },
  {
   "cell_type": "code",
   "execution_count": 11,
   "metadata": {},
   "outputs": [
    {
     "data": {
      "image/png": "[encoded data removed]",
      "text/plain": [
       "<Figure size 432x288 with 1 Axes>"
      ]
     },
     "metadata": {
      "needs_background": "light"
     },
     "output_type": "display_data"
    }
   ],
   "source": [
    "# Test\n",
    "plot_length_statement_distr(test_hd.ruling_headline)"
   ]
  },
  {
   "cell_type": "code",
   "execution_count": 12,
   "metadata": {},
   "outputs": [
    {
     "data": {
      "image/png": "[encoded data removed]",
      "text/plain": [
       "<Figure size 432x288 with 1 Axes>"
      ]
     },
     "metadata": {
      "needs_background": "light"
     },
     "output_type": "display_data"
    }
   ],
   "source": [
    "# Validation\n",
    "plot_length_statement_distr(valid_hd.ruling_headline)"
   ]
  },
  {
   "cell_type": "code",
   "execution_count": 13,
   "metadata": {},
   "outputs": [
    {
     "data": {
      "text/plain": [
       "<matplotlib.axes._subplots.AxesSubplot at 0x7f6d59935400>"
      ]
     },
     "execution_count": 13,
     "metadata": {},
     "output_type": "execute_result"
    },
    {
     "data": {
      "image/png": "[encoded data removed]",
      "text/plain": [
       "<Figure size 432x288 with 1 Axes>"
      ]
     },
     "metadata": {
      "needs_background": "light"
     },
     "output_type": "display_data"
    }
   ],
   "source": [
    "# Label distribution\n",
    "\n",
    "# Train\n",
    "plot_label_distribution(train_hd)"
   ]
  },
  {
   "cell_type": "code",
   "execution_count": 14,
   "metadata": {},
   "outputs": [
    {
     "data": {
      "text/plain": [
       "<matplotlib.axes._subplots.AxesSubplot at 0x7f6d598cfef0>"
      ]
     },
     "execution_count": 14,
     "metadata": {},
     "output_type": "execute_result"
    },
    {
     "data": {
      "image/png": "[encoded data removed]",
      "text/plain": [
       "<Figure size 432x288 with 1 Axes>"
      ]
     },
     "metadata": {
      "needs_background": "light"
     },
     "output_type": "display_data"
    }
   ],
   "source": [
    "# Test\n",
    "plot_label_distribution(test_hd)"
   ]
  },
  {
   "cell_type": "code",
   "execution_count": 15,
   "metadata": {},
   "outputs": [
    {
     "data": {
      "text/plain": [
       "<matplotlib.axes._subplots.AxesSubplot at 0x7f6d59875ac8>"
      ]
     },
     "execution_count": 15,
     "metadata": {},
     "output_type": "execute_result"
    },
    {
     "data": {
      "image/png": "[encoded data removed]",
      "text/plain": [
       "<Figure size 432x288 with 1 Axes>"
      ]
     },
     "metadata": {
      "needs_background": "light"
     },
     "output_type": "display_data"
    }
   ],
   "source": [
    "# Validation\n",
    "plot_label_distribution(valid_hd)"
   ]
  },
  {
   "cell_type": "code",
   "execution_count": 16,
   "metadata": {},
   "outputs": [
    {
     "data": {
      "image/png": "[encoded data removed]",
      "text/plain": [
       "<Figure size 432x288 with 1 Axes>"
      ]
     },
     "metadata": {
      "needs_background": "light"
     },
     "output_type": "display_data"
    }
   ],
   "source": [
    "# Word frequencies (words shorter than 3 excluded)\n",
    "\n",
    "# Train\n",
    "plot_freq_word(train_hd.ruling_headline)"
   ]
  },
  {
   "cell_type": "code",
   "execution_count": 17,
   "metadata": {},
   "outputs": [
    {
     "data": {
      "image/png": "[encoded data removed]",
      "text/plain": [
       "<Figure size 432x288 with 1 Axes>"
      ]
     },
     "metadata": {
      "needs_background": "light"
     },
     "output_type": "display_data"
    }
   ],
   "source": [
    "# Test\n",
    "plot_freq_word(test_hd.ruling_headline)"
   ]
  },
  {
   "cell_type": "code",
   "execution_count": 18,
   "metadata": {},
   "outputs": [
    {
     "data": {
      "image/png": "[encoded data removed]",
      "text/plain": [
       "<Figure size 432x288 with 1 Axes>"
      ]
     },
     "metadata": {
      "needs_background": "light"
     },
     "output_type": "display_data"
    }
   ],
   "source": [
    "# Validation\n",
    "plot_freq_word(valid_hd.ruling_headline)"
   ]
  },
  {
   "cell_type": "markdown",
   "metadata": {},
   "source": [
    "## Data preprocessing"
   ]
  },
  {
   "cell_type": "code",
   "execution_count": 19,
   "metadata": {},
   "outputs": [],
   "source": [
    "# Cleaning text data\n",
    "clean_train_df = clean_data(train_hd, \"ruling_headline\")\n",
    "clean_test_df = clean_data(test_hd, \"ruling_headline\")\n",
    "clean_valid_df = clean_data(valid_hd, \"ruling_headline\")"
   ]
  },
  {
   "cell_type": "markdown",
   "metadata": {},
   "source": [
    "## NLTK Naive Bayes"
   ]
  },
  {
   "cell_type": "markdown",
   "metadata": {},
   "source": [
    "We ran different classifiers but the one who provided the best performance for our model was the NLTK Naive Bayes, so we will focus on it."
   ]
  },
  {
   "cell_type": "code",
   "execution_count": 20,
   "metadata": {},
   "outputs": [],
   "source": [
    "# Converting dataframes to list of tuples\n",
    "hd_list_tr = convertToTupleList(clean_train_df)\n",
    "hd_list_te = convertToTupleList(clean_test_df)\n",
    "hd_list_va = convertToTupleList(clean_valid_df)"
   ]
  },
  {
   "cell_type": "code",
   "execution_count": 21,
   "metadata": {
    "scrolled": true
   },
   "outputs": [],
   "source": [
    "nltk_classifier = train_NLTK_NB(hd_list_tr)"
   ]
  },
  {
   "cell_type": "code",
   "execution_count": 24,
   "metadata": {},
   "outputs": [
    {
     "name": "stdout",
     "output_type": "stream",
     "text": [
      "Accuracy:  0.252827140549273\n"
     ]
    }
   ],
   "source": [
    "test_set = test_NLTK_NB(hd_list_te, nltk_classifier)"
   ]
  },
  {
   "cell_type": "code",
   "execution_count": 25,
   "metadata": {
    "scrolled": true
   },
   "outputs": [
    {
     "name": "stdout",
     "output_type": "stream",
     "text": [
      "Most Informative Features\n",
      "                    pant = True               -2 : 1      =     63.0 : 1.0\n",
      "                   wrong = True               -2 : 2      =     33.5 : 1.0\n",
      "                   chain = True               -2 : 1      =     27.0 : 1.0\n",
      "                 correct = True                3 : 0      =     26.7 : 1.0\n",
      "                 wrongly = True               -2 : 1      =     24.3 : 1.0\n",
      "                  mostly = True                2 : 3      =     23.0 : 1.0\n",
      "               socialist = True               -2 : -1     =     19.8 : 1.0\n",
      "                   email = True               -2 : 3      =     19.7 : 1.0\n",
      "                limbaugh = True               -2 : 2      =     17.9 : 1.0\n",
      "                 michele = True               -2 : 3      =     17.9 : 1.0\n"
     ]
    }
   ],
   "source": [
    "nltk_classifier.show_most_informative_features()"
   ]
  },
  {
   "cell_type": "code",
   "execution_count": 27,
   "metadata": {},
   "outputs": [
    {
     "data": {
      "text/plain": [
       "[('pant', True),\n",
       " ('wrong', True),\n",
       " ('chain', True),\n",
       " ('correct', True),\n",
       " ('wrongly', True),\n",
       " ('mostly', True),\n",
       " ('socialist', True),\n",
       " ('email', True),\n",
       " ('limbaugh', True),\n",
       " ('michele', True),\n",
       " ('viral', True),\n",
       " ('false', True),\n",
       " ('fire', True),\n",
       " ('wont', True),\n",
       " ('blogger', True),\n",
       " ('bachmann', True),\n",
       " ('zero', True),\n",
       " ('repeat', True),\n",
       " ('falsely', True),\n",
       " ('takeover', True),\n",
       " ('ridiculous', True),\n",
       " ('evidence', True),\n",
       " ('post', True),\n",
       " ('suggests', True),\n",
       " ('photo', True),\n",
       " ('muslim', True),\n",
       " ('detail', True),\n",
       " ('quote', True),\n",
       " ('sex', True),\n",
       " ('cite', True)]"
      ]
     },
     "execution_count": 27,
     "metadata": {},
     "output_type": "execute_result"
    }
   ],
   "source": [
    "nltk_classifier.most_informative_features(30)"
   ]
  },
  {
   "cell_type": "code",
   "execution_count": 28,
   "metadata": {},
   "outputs": [],
   "source": [
    "probs = nltk_classifier.classify_many([fs for (fs, l) in test_set])"
   ]
  },
  {
   "cell_type": "code",
   "execution_count": 29,
   "metadata": {},
   "outputs": [
    {
     "name": "stdout",
     "output_type": "stream",
     "text": [
      "   |  -  -  -  -                      |\n",
      "   |  4  3  2  1  0  1  2  3  4  5  6 |\n",
      "---+----------------------------------+\n",
      "-4 | <.> .  .  .  .  .  .  .  .  .  . |\n",
      "-3 |  . <.> .  .  .  .  .  .  .  .  . |\n",
      "-2 |  .  .<15>21 15 10  5  7  .  .  . |\n",
      "-1 |  .  . 29<65>50 53 33 37  .  .  . |\n",
      " 0 |  .  .  9 30<42>27 33 21  .  .  . |\n",
      " 1 |  .  . 18 58 59<72>44 38  .  .  . |\n",
      " 2 |  .  . 12 30 21 52<59>39  .  .  . |\n",
      " 3 |  .  .  9 39 22 46 58<60> .  .  . |\n",
      " 4 |  .  .  .  .  .  .  .  . <.> .  . |\n",
      " 5 |  .  .  .  .  .  .  .  .  . <.> . |\n",
      " 6 |  .  .  .  .  .  .  .  .  .  . <.>|\n",
      "---+----------------------------------+\n",
      "(row = reference; col = test)\n",
      "\n"
     ]
    }
   ],
   "source": [
    "from nltk.metrics import ConfusionMatrix\n",
    "cm = ConfusionMatrix(probs, clean_test_df.label.values)\n",
    "print(cm)"
   ]
  },
  {
   "cell_type": "markdown",
   "metadata": {},
   "source": [
    "## TextBlob Naive Bayes"
   ]
  },
  {
   "cell_type": "code",
   "execution_count": 233,
   "metadata": {
    "scrolled": true
   },
   "outputs": [],
   "source": [
    "tb_classifier = NaiveBayesClassifier(hd_list_tr)"
   ]
  },
  {
   "cell_type": "code",
   "execution_count": 234,
   "metadata": {},
   "outputs": [
    {
     "data": {
      "text/plain": [
       "0.2456556082148499"
      ]
     },
     "execution_count": 234,
     "metadata": {},
     "output_type": "execute_result"
    }
   ],
   "source": [
    "tb_classifier.accuracy(hd_list_te)"
   ]
  },
  {
   "cell_type": "markdown",
   "metadata": {},
   "source": [
    "## Sklearn classifiers"
   ]
  },
  {
   "cell_type": "code",
   "execution_count": 21,
   "metadata": {},
   "outputs": [],
   "source": [
    "# Save text data to be processed\n",
    "save_data(clean_train_df, \"ruling_headline\", CLEAN_TRAIN)\n",
    "save_data(clean_test_df, \"ruling_headline\", CLEAN_TEST)\n",
    "save_data(clean_valid_df, \"ruling_headline\", CLEAN_VALID)"
   ]
  },
  {
   "cell_type": "code",
   "execution_count": 22,
   "metadata": {},
   "outputs": [],
   "source": [
    "# Now the scripts to create word embeddings must be ran"
   ]
  },
  {
   "cell_type": "code",
   "execution_count": 24,
   "metadata": {},
   "outputs": [],
   "source": [
    "# Get text features\n",
    "train_feat = getFeatures(CLEAN_TRAIN)\n",
    "test_feat = getFeatures(CLEAN_TEST)\n",
    "valid_feat = getFeatures(CLEAN_VALID)"
   ]
  },
  {
   "cell_type": "code",
   "execution_count": 25,
   "metadata": {},
   "outputs": [],
   "source": [
    "# Splitting data and get labels\n",
    "train_data, train_labels = shuffle(np.array(train_feat), clean_train_df.label.values)\n",
    "test_data, test_labels = shuffle(np.array(test_feat), clean_test_df.label.values)\n",
    "valid_data, valid_labels = shuffle(np.array(valid_feat), clean_valid_df.label.values)"
   ]
  },
  {
   "cell_type": "markdown",
   "metadata": {},
   "source": [
    "### Random forest"
   ]
  },
  {
   "cell_type": "code",
   "execution_count": 26,
   "metadata": {},
   "outputs": [
    {
     "name": "stdout",
     "output_type": "stream",
     "text": [
      "0.19305331179321486\n"
     ]
    },
    {
     "data": {
      "text/plain": [
       "array([3, 0, 1, ..., 1, 0, 1])"
      ]
     },
     "execution_count": 26,
     "metadata": {},
     "output_type": "execute_result"
    }
   ],
   "source": [
    "probs = train_RF(train_data, train_labels, test_data, test_labels)"
   ]
  },
  {
   "cell_type": "markdown",
   "metadata": {},
   "source": [
    "### Logistic regression"
   ]
  },
  {
   "cell_type": "code",
   "execution_count": 27,
   "metadata": {},
   "outputs": [
    {
     "name": "stdout",
     "output_type": "stream",
     "text": [
      "0.21647819063004847\n"
     ]
    },
    {
     "data": {
      "text/plain": [
       "array([ 2,  2,  1, ...,  0,  1, -1])"
      ]
     },
     "execution_count": 27,
     "metadata": {},
     "output_type": "execute_result"
    }
   ],
   "source": [
    "probs = train_LR(train_data, train_labels, test_data, test_labels)"
   ]
  },
  {
   "cell_type": "markdown",
   "metadata": {},
   "source": [
    "### Support vector machine"
   ]
  },
  {
   "cell_type": "code",
   "execution_count": 29,
   "metadata": {},
   "outputs": [
    {
     "name": "stdout",
     "output_type": "stream",
     "text": [
      "0.22132471728594508\n"
     ]
    },
    {
     "name": "stderr",
     "output_type": "stream",
     "text": [
      "/home/mikanikos/anaconda3/envs/ada/lib/python3.6/site-packages/sklearn/svm/base.py:922: ConvergenceWarning: Liblinear failed to converge, increase the number of iterations.\n",
      "  \"the number of iterations.\", ConvergenceWarning)\n"
     ]
    },
    {
     "data": {
      "text/plain": [
       "array([ 2,  2,  1, ...,  0,  1, -1])"
      ]
     },
     "execution_count": 29,
     "metadata": {},
     "output_type": "execute_result"
    }
   ],
   "source": [
    "probs = train_SVM(train_data, train_labels, test_data, test_labels)"
   ]
  },
  {
   "cell_type": "code",
   "execution_count": null,
   "metadata": {},
   "outputs": [],
   "source": []
  }
 ],
 "metadata": {
  "kernelspec": {
   "display_name": "Python 3",
   "language": "python",
   "name": "python3"
  },
  "language_info": {
   "codemirror_mode": {
    "name": "ipython",
    "version": 3
   },
   "file_extension": ".py",
   "mimetype": "text/x-python",
   "name": "python",
   "nbconvert_exporter": "python",
   "pygments_lexer": "ipython3",
   "version": "3.6.7"
  }
 },
 "nbformat": 4,
 "nbformat_minor": 2
}
