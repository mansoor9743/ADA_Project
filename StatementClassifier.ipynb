{
 "cells": [
  {
   "cell_type": "code",
   "execution_count": 1,
   "metadata": {},
   "outputs": [],
   "source": [
    "## Imports\n",
    "import pandas as pd\n",
    "import matplotlib.pyplot as plt\n",
    "import seaborn as sns\n",
    "import numpy as np\n",
    "from textblob.classifiers import NaiveBayesClassifier\n",
    "\n",
    "from helpers import *\n",
    "%matplotlib inline"
   ]
  },
  {
   "cell_type": "markdown",
   "metadata": {},
   "source": [
    "# Lies detector from statements"
   ]
  },
  {
   "cell_type": "markdown",
   "metadata": {},
   "source": [
    "In this section the idea is to replicate the result obtained by the paper of reference and see if we can detect lies from the statements given from only the text of the statements."
   ]
  },
  {
   "cell_type": "markdown",
   "metadata": {},
   "source": [
    "## Data loading and preparation"
   ]
  },
  {
   "cell_type": "code",
   "execution_count": 2,
   "metadata": {},
   "outputs": [],
   "source": [
    "## Define paths\n",
    "DATA_FOLDER = './data/'\n",
    "TRAIN_PATH = DATA_FOLDER + 'train.tsv'\n",
    "TEST_PATH = DATA_FOLDER + 'test.tsv'\n",
    "VALID_PATH = DATA_FOLDER + 'valid.tsv'"
   ]
  },
  {
   "cell_type": "code",
   "execution_count": 3,
   "metadata": {},
   "outputs": [],
   "source": [
    "CLEAN_TRAIN = DATA_FOLDER + \"train_clean.txt\"\n",
    "CLEAN_TEST = DATA_FOLDER + \"test_clean.txt\"\n",
    "CLEAN_VALID = DATA_FOLDER + \"valid_clean.txt\""
   ]
  },
  {
   "cell_type": "code",
   "execution_count": 4,
   "metadata": {},
   "outputs": [],
   "source": [
    "# Loading data and convert labels in \"dummy scale\"\n",
    "\n",
    "train_data = load_data(TRAIN_PATH)\n",
    "test_data = load_data(TEST_PATH)\n",
    "valid_data = load_data(VALID_PATH)\n",
    "\n",
    "train_data.label = convert_label(train_data)\n",
    "test_data.label = convert_label(test_data)\n",
    "valid_data.label = convert_label(valid_data)\n",
    "\n",
    "train_data = train_data[[\"statement\", \"label\"]]\n",
    "test_data = test_data[[\"statement\", \"label\"]]\n",
    "valid_data = valid_data[[\"statement\", \"label\"]]"
   ]
  },
  {
   "cell_type": "markdown",
   "metadata": {},
   "source": [
    "We will work with the Liar Dataset only and we will analyze only the statement columns."
   ]
  },
  {
   "cell_type": "markdown",
   "metadata": {},
   "source": [
    "## Data exploration"
   ]
  },
  {
   "cell_type": "markdown",
   "metadata": {},
   "source": [
    "Before going through the preprocessing and training, we will collect some data to understand better the samples we have."
   ]
  },
  {
   "cell_type": "code",
   "execution_count": 5,
   "metadata": {},
   "outputs": [
    {
     "name": "stdout",
     "output_type": "stream",
     "text": [
      "Train data dimension: 10240\n",
      "Test data dimension: 1267\n",
      "Validation data dimension: 1284\n"
     ]
    }
   ],
   "source": [
    "# Dimension of the data\n",
    "\n",
    "# Train\n",
    "print(\"Train data dimension:\", train_data.shape[0])\n",
    "\n",
    "# Test\n",
    "print(\"Test data dimension:\", test_data.shape[0])\n",
    "\n",
    "# Validation\n",
    "print(\"Validation data dimension:\", valid_data.shape[0])"
   ]
  },
  {
   "cell_type": "code",
   "execution_count": 6,
   "metadata": {},
   "outputs": [
    {
     "name": "stdout",
     "output_type": "stream",
     "text": [
      "Train set, average statement length in words: 18.01005859375\n",
      "Test set, average statement length in words: 18.40410418310971\n",
      "Validation set, average statement length in words: 17.925233644859812\n"
     ]
    }
   ],
   "source": [
    "# Mean of the number of words per statement\n",
    "\n",
    "# Train \n",
    "print(\"Train set, average statement length in words:\", np.mean(train_data.statement.str.split().str.len()))\n",
    "\n",
    "# Test\n",
    "print(\"Test set, average statement length in words:\", np.mean(test_data.statement.str.split().str.len()))\n",
    "\n",
    "# Validation\n",
    "print(\"Validation set, average statement length in words:\", np.mean(valid_data.statement.str.split().str.len()))"
   ]
  },
  {
   "cell_type": "code",
   "execution_count": 7,
   "metadata": {},
   "outputs": [
    {
     "name": "stdout",
     "output_type": "stream",
     "text": [
      "Train set, median value of the statement length in words: 17.0\n",
      "Test set, median value of the statement length in words: 16.0\n",
      "Validation set, median value of the statement length in words: 17.0\n"
     ]
    }
   ],
   "source": [
    "# Median of the number of words per statement\n",
    "\n",
    "# Train\n",
    "print(\"Train set, median value of the statement length in words:\", np.median(train_data.statement.str.split().str.len()))\n",
    "\n",
    "# Test\n",
    "print(\"Test set, median value of the statement length in words:\", np.median(test_data.statement.str.split().str.len()))\n",
    "\n",
    "# Validation\n",
    "print(\"Validation set, median value of the statement length in words:\", np.median(valid_data.statement.str.split().str.len()))"
   ]
  },
  {
   "cell_type": "code",
   "execution_count": 8,
   "metadata": {},
   "outputs": [
    {
     "data": {
      "image/png": "[encoded data removed]",
      "text/plain": [
       "<Figure size 432x288 with 1 Axes>"
      ]
     },
     "metadata": {
      "needs_background": "light"
     },
     "output_type": "display_data"
    }
   ],
   "source": [
    "# Distribution of the lengths of the statements\n",
    "\n",
    "# Train\n",
    "plot_length_statement_distr(train_data.statement)"
   ]
  },
  {
   "cell_type": "code",
   "execution_count": 9,
   "metadata": {},
   "outputs": [
    {
     "data": {
      "image/png": "[encoded data removed]",
      "text/plain": [
       "<Figure size 432x288 with 1 Axes>"
      ]
     },
     "metadata": {
      "needs_background": "light"
     },
     "output_type": "display_data"
    }
   ],
   "source": [
    "# Test\n",
    "plot_length_statement_distr(test_data.statement)"
   ]
  },
  {
   "cell_type": "code",
   "execution_count": 10,
   "metadata": {},
   "outputs": [
    {
     "data": {
      "image/png": "[encoded data removed]",
      "text/plain": [
       "<Figure size 432x288 with 1 Axes>"
      ]
     },
     "metadata": {
      "needs_background": "light"
     },
     "output_type": "display_data"
    }
   ],
   "source": [
    "# Validation\n",
    "plot_length_statement_distr(valid_data.statement)"
   ]
  },
  {
   "cell_type": "markdown",
   "metadata": {},
   "source": [
    "The mean and median number of statements are pretty much the same for train, test and validation data and we can see from the plots that most of the statements are inside the range 0-70 or 0-60, we can notice just few outliers in the train and test set.  "
   ]
  },
  {
   "cell_type": "code",
   "execution_count": 11,
   "metadata": {},
   "outputs": [
    {
     "data": {
      "text/plain": [
       "<matplotlib.axes._subplots.AxesSubplot at 0x7fb2cf75b710>"
      ]
     },
     "execution_count": 11,
     "metadata": {},
     "output_type": "execute_result"
    },
    {
     "data": {
      "image/png": "[encoded data removed]",
      "text/plain": [
       "<Figure size 432x288 with 1 Axes>"
      ]
     },
     "metadata": {
      "needs_background": "light"
     },
     "output_type": "display_data"
    }
   ],
   "source": [
    "# Label distribution\n",
    "\n",
    "# Train\n",
    "plot_label_distribution(train_data)"
   ]
  },
  {
   "cell_type": "code",
   "execution_count": 12,
   "metadata": {},
   "outputs": [
    {
     "data": {
      "text/plain": [
       "<matplotlib.axes._subplots.AxesSubplot at 0x7fb2cf7230b8>"
      ]
     },
     "execution_count": 12,
     "metadata": {},
     "output_type": "execute_result"
    },
    {
     "data": {
      "image/png": "[encoded data removed]",
      "text/plain": [
       "<Figure size 432x288 with 1 Axes>"
      ]
     },
     "metadata": {
      "needs_background": "light"
     },
     "output_type": "display_data"
    }
   ],
   "source": [
    "# Test\n",
    "plot_label_distribution(test_data)"
   ]
  },
  {
   "cell_type": "code",
   "execution_count": 13,
   "metadata": {},
   "outputs": [
    {
     "data": {
      "text/plain": [
       "<matplotlib.axes._subplots.AxesSubplot at 0x7fb2d0125a58>"
      ]
     },
     "execution_count": 13,
     "metadata": {},
     "output_type": "execute_result"
    },
    {
     "data": {
      "image/png": "[encoded data removed]",
      "text/plain": [
       "<Figure size 432x288 with 1 Axes>"
      ]
     },
     "metadata": {
      "needs_background": "light"
     },
     "output_type": "display_data"
    }
   ],
   "source": [
    "# Validation\n",
    "plot_label_distribution(valid_data)"
   ]
  },
  {
   "cell_type": "markdown",
   "metadata": {},
   "source": [
    "Values are for: -2: pants-on-fire, -1: false, 0: barely-true, 1: half-true, 2: mostly-true, 3: true"
   ]
  },
  {
   "cell_type": "markdown",
   "metadata": {},
   "source": [
    "For semplicity we decided to convert the labels (pant-fire, false, barely-true, half-true, mostly-true, true) in specific numeric variables in the range (-2,3) that are more meaningful for us to interpretate and for the assignment of weights to the classes in the future model."
   ]
  },
  {
   "cell_type": "markdown",
   "metadata": {},
   "source": [
    "As in the headline classifier, here the distrubtion of the labels is uniform excpet for pants-fire."
   ]
  },
  {
   "cell_type": "code",
   "execution_count": 14,
   "metadata": {},
   "outputs": [
    {
     "data": {
      "image/png": "[encoded data removed]",
      "text/plain": [
       "<Figure size 432x288 with 1 Axes>"
      ]
     },
     "metadata": {
      "needs_background": "light"
     },
     "output_type": "display_data"
    }
   ],
   "source": [
    "# Word frequencies (words shorter than 3 excluded)\n",
    "\n",
    "# Train\n",
    "plot_freq_word(train_data.statement)"
   ]
  },
  {
   "cell_type": "code",
   "execution_count": 15,
   "metadata": {},
   "outputs": [
    {
     "data": {
      "image/png": "[encoded data removed]",
      "text/plain": [
       "<Figure size 432x288 with 1 Axes>"
      ]
     },
     "metadata": {
      "needs_background": "light"
     },
     "output_type": "display_data"
    }
   ],
   "source": [
    "# Test\n",
    "plot_freq_word(test_data.statement)"
   ]
  },
  {
   "cell_type": "code",
   "execution_count": 16,
   "metadata": {},
   "outputs": [
    {
     "data": {
      "image/png": "[encoded data removed]",
      "text/plain": [
       "<Figure size 432x288 with 1 Axes>"
      ]
     },
     "metadata": {
      "needs_background": "light"
     },
     "output_type": "display_data"
    }
   ],
   "source": [
    "# Validation\n",
    "plot_freq_word(valid_data.statement)"
   ]
  },
  {
   "cell_type": "markdown",
   "metadata": {},
   "source": [
    "## Data preprocessing"
   ]
  },
  {
   "cell_type": "markdown",
   "metadata": {},
   "source": [
    "We cleaned and preprocessed the text data by using some basic techniques such as removing stopwords and punctuation and lemmatization. The entire pipeline is illustrated in the helpers.py file."
   ]
  },
  {
   "cell_type": "code",
   "execution_count": 17,
   "metadata": {},
   "outputs": [],
   "source": [
    "# Cleaning text data\n",
    "clean_train_df = clean_data(train_data, \"statement\")\n",
    "clean_test_df = clean_data(test_data, \"statement\")\n",
    "clean_valid_df = clean_data(valid_data, \"statement\")"
   ]
  },
  {
   "cell_type": "markdown",
   "metadata": {},
   "source": [
    "# Training"
   ]
  },
  {
   "cell_type": "markdown",
   "metadata": {},
   "source": [
    "We decided to run different classifiers for the training session but we will focus once again on NLTK Naive Bayes since it was the one who provided the best performance."
   ]
  },
  {
   "cell_type": "markdown",
   "metadata": {},
   "source": [
    "## NLTK Naive Bayes"
   ]
  },
  {
   "cell_type": "code",
   "execution_count": 19,
   "metadata": {},
   "outputs": [],
   "source": [
    "# Converting dataframes to list of tuples\n",
    "st_list_tr = convertToTupleList(clean_train_df)\n",
    "st_list_te = convertToTupleList(clean_test_df)\n",
    "st_list_va = convertToTupleList(clean_valid_df)"
   ]
  },
  {
   "cell_type": "code",
   "execution_count": 20,
   "metadata": {
    "scrolled": true
   },
   "outputs": [],
   "source": [
    "# Training\n",
    "nltk_classifier = train_NLTK_NB(st_list_tr)"
   ]
  },
  {
   "cell_type": "code",
   "execution_count": 21,
   "metadata": {},
   "outputs": [
    {
     "name": "stdout",
     "output_type": "stream",
     "text": [
      "Accuracy:  0.2557221783741121\n"
     ]
    }
   ],
   "source": [
    "# Testing\n",
    "test_set = test_NLTK_NB(st_list_te, nltk_classifier)"
   ]
  },
  {
   "cell_type": "markdown",
   "metadata": {},
   "source": [
    "The accuracy is low and very similar to the one obtained in the headline classifier. As said in that section, this is due to the small size of the data and the multi-label classification we are doing. Since our goal was to replicate the results of the Liar Dataset paper, we can say that we accomplished it since the value is very similar to the one obtained there but we will try to focus more on the other insights that the model can give us.  "
   ]
  },
  {
   "cell_type": "code",
   "execution_count": 22,
   "metadata": {},
   "outputs": [
    {
     "name": "stdout",
     "output_type": "stream",
     "text": [
      "Most Informative Features\n",
      "               socialist = True               -2 : 0      =     15.1 : 1.0\n",
      "            constitution = True               -2 : 2      =     13.2 : 1.0\n",
      "                    team = True               -2 : 2      =     13.2 : 1.0\n",
      "                     rep = True               -2 : 2      =     13.0 : 1.0\n",
      "                 defense = True                2 : -1     =     12.5 : 1.0\n",
      "                   panel = True               -2 : -1     =     11.9 : 1.0\n",
      "                    face = True               -2 : 0      =     11.2 : 1.0\n",
      "                      im = True               -2 : 0      =     11.2 : 1.0\n",
      "                  doctor = True               -1 : 1      =     10.9 : 1.0\n",
      "               protester = True               -2 : 1      =     10.9 : 1.0\n"
     ]
    }
   ],
   "source": [
    "# Show most informative features\n",
    "nltk_classifier.show_most_informative_features()"
   ]
  },
  {
   "cell_type": "markdown",
   "metadata": {},
   "source": [
    "We can analyze the most informative features in order to understand if there are some meaninful words that contribute to classify better the statements. The likelihood ratio on the right can be useful for comparing different feature-outcome relationships. For example, statements that contain \"socialist\" in the training set are classified as very bad lies 15 times more often than they are barely-true."
   ]
  },
  {
   "cell_type": "code",
   "execution_count": 23,
   "metadata": {},
   "outputs": [
    {
     "data": {
      "text/plain": [
       "[('socialist', True),\n",
       " ('constitution', True),\n",
       " ('team', True),\n",
       " ('rep', True),\n",
       " ('defense', True),\n",
       " ('panel', True),\n",
       " ('face', True),\n",
       " ('im', True),\n",
       " ('doctor', True),\n",
       " ('protester', True),\n",
       " ('black', True),\n",
       " ('africanamerican', True),\n",
       " ('muslim', True),\n",
       " ('study', True),\n",
       " ('farm', True),\n",
       " ('tom', True),\n",
       " ('deficit', True),\n",
       " ('michelle', True),\n",
       " ('sold', True),\n",
       " ('takeover', True),\n",
       " ('trillion', True),\n",
       " ('protest', True),\n",
       " ('victim', True),\n",
       " ('primary', True),\n",
       " ('close', True),\n",
       " ('option', True),\n",
       " ('serving', True),\n",
       " ('manufacturing', True),\n",
       " ('decade', True),\n",
       " ('mandatory', True)]"
      ]
     },
     "execution_count": 23,
     "metadata": {},
     "output_type": "execute_result"
    }
   ],
   "source": [
    "# List of some other informative features\n",
    "nltk_classifier.most_informative_features(30)"
   ]
  },
  {
   "cell_type": "code",
   "execution_count": 24,
   "metadata": {},
   "outputs": [],
   "source": [
    "probs = nltk_classifier.classify_many([fs for (fs, l) in test_set])"
   ]
  },
  {
   "cell_type": "code",
   "execution_count": 25,
   "metadata": {},
   "outputs": [
    {
     "name": "stdout",
     "output_type": "stream",
     "text": [
      "   |  -  -  -  -                      |\n",
      "   |  4  3  2  1  0  1  2  3  4  5  6 |\n",
      "---+----------------------------------+\n",
      "-4 | <.> .  .  .  .  .  .  .  .  .  . |\n",
      "-3 |  . <.> .  .  .  .  .  .  .  .  . |\n",
      "-2 |  .  .<15>18 13 14 12 13  .  .  . |\n",
      "-1 |  .  . 24<79>66 51 47 38  .  .  . |\n",
      " 0 |  .  . 12 29<44>37 22 23  .  .  . |\n",
      " 1 |  .  . 17 49 41<69>43 25  .  .  . |\n",
      " 2 |  .  . 10 40 19 56<62>54  .  .  . |\n",
      " 3 |  .  . 14 34 29 38 55<55> .  .  . |\n",
      " 4 |  .  .  .  .  .  .  .  . <.> .  . |\n",
      " 5 |  .  .  .  .  .  .  .  .  . <.> . |\n",
      " 6 |  .  .  .  .  .  .  .  .  .  . <.>|\n",
      "---+----------------------------------+\n",
      "(row = reference; col = test)\n",
      "\n"
     ]
    }
   ],
   "source": [
    "# Consufion matrix\n",
    "from nltk.metrics import ConfusionMatrix\n",
    "cm = ConfusionMatrix(probs, clean_test_df.label.values)\n",
    "print(cm)"
   ]
  },
  {
   "cell_type": "code",
   "execution_count": 26,
   "metadata": {},
   "outputs": [],
   "source": [
    "all_words = set(word.lower() for passage in st_list_tr for word in word_tokenize(passage[0]))\n",
    "train_set = [({word: (word in word_tokenize(x[0])) for word in all_words}, x[1]) for x in st_list_tr]"
   ]
  },
  {
   "cell_type": "code",
   "execution_count": 27,
   "metadata": {},
   "outputs": [],
   "source": [
    "probs_train = nltk_classifier.classify_many([fs for (fs, l) in train_set])"
   ]
  },
  {
   "cell_type": "code",
   "execution_count": 29,
   "metadata": {},
   "outputs": [],
   "source": [
    "np.save(\"st_text_out_tr\", probs_train)\n",
    "np.save(\"st_text_out_te\", probs)"
   ]
  },
  {
   "cell_type": "markdown",
   "metadata": {},
   "source": [
    "## TextBlob Naive Bayes"
   ]
  },
  {
   "cell_type": "code",
   "execution_count": 233,
   "metadata": {
    "scrolled": true
   },
   "outputs": [],
   "source": [
    "tb_classifier = NaiveBayesClassifier(st_list_tr)"
   ]
  },
  {
   "cell_type": "code",
   "execution_count": 234,
   "metadata": {},
   "outputs": [
    {
     "data": {
      "text/plain": [
       "0.2456556082148499"
      ]
     },
     "execution_count": 234,
     "metadata": {},
     "output_type": "execute_result"
    }
   ],
   "source": [
    "tb_classifier.accuracy(st_list_te)"
   ]
  },
  {
   "cell_type": "markdown",
   "metadata": {},
   "source": [
    "## Sklearn classifiers"
   ]
  },
  {
   "cell_type": "code",
   "execution_count": 226,
   "metadata": {
    "collapsed": true
   },
   "outputs": [
    {
     "data": {
      "text/plain": [
       "0"
      ]
     },
     "execution_count": 226,
     "metadata": {},
     "output_type": "execute_result"
    }
   ],
   "source": [
    "# Save text data to be processed\n",
    "save_data(clean_train_df, \"statement\", CLEAN_TRAIN)\n",
    "save_data(clean_test_df, \"statement\", CLEAN_TEST)\n",
    "save_data(clean_valid_df, \"statement\", CLEAN_VALID)"
   ]
  },
  {
   "cell_type": "code",
   "execution_count": null,
   "metadata": {},
   "outputs": [],
   "source": [
    "# Now the scripts to create word embeddings must be ran"
   ]
  },
  {
   "cell_type": "code",
   "execution_count": 227,
   "metadata": {},
   "outputs": [],
   "source": [
    "# Get text features\n",
    "train_feat = getFeatures(CLEAN_TRAIN)\n",
    "test_feat = getFeatures(CLEAN_TEST)\n",
    "valid_feat = getFeatures(CLEAN_VALID)"
   ]
  },
  {
   "cell_type": "code",
   "execution_count": 228,
   "metadata": {},
   "outputs": [],
   "source": [
    "# Splitting data and get labels\n",
    "train_data, train_labels = shuffle(np.array(train_feat), clean_train_df.label.values)\n",
    "test_data, test_labels = shuffle(np.array(test_feat), clean_test_df.label.values)\n",
    "valid_data, valid_labels = shuffle(np.array(valid_feat), clean_valid_df.label.values)"
   ]
  },
  {
   "cell_type": "markdown",
   "metadata": {},
   "source": [
    "### Random forest"
   ]
  },
  {
   "cell_type": "code",
   "execution_count": 229,
   "metadata": {},
   "outputs": [
    {
     "name": "stdout",
     "output_type": "stream",
     "text": [
      "0.19793322734499205\n"
     ]
    },
    {
     "data": {
      "text/plain": [
       "array([ 3, -1,  1, ...,  1,  2,  1])"
      ]
     },
     "execution_count": 229,
     "metadata": {},
     "output_type": "execute_result"
    }
   ],
   "source": [
    "probs = train_RF(train_data, train_labels, test_data, test_labels)"
   ]
  },
  {
   "cell_type": "markdown",
   "metadata": {},
   "source": [
    "### Logistic regression"
   ]
  },
  {
   "cell_type": "code",
   "execution_count": 232,
   "metadata": {},
   "outputs": [
    {
     "name": "stdout",
     "output_type": "stream",
     "text": [
      "0.21542130365659778\n"
     ]
    },
    {
     "data": {
      "text/plain": [
       "array([ 1, -1,  1, ..., -1, -1,  1])"
      ]
     },
     "execution_count": 232,
     "metadata": {},
     "output_type": "execute_result"
    }
   ],
   "source": [
    "probs = train_LR(train_data, train_labels, test_data, test_labels)"
   ]
  },
  {
   "cell_type": "markdown",
   "metadata": {},
   "source": [
    "### Support vector machine"
   ]
  },
  {
   "cell_type": "code",
   "execution_count": 231,
   "metadata": {},
   "outputs": [
    {
     "name": "stdout",
     "output_type": "stream",
     "text": [
      "0.21144674085850557\n"
     ]
    },
    {
     "data": {
      "text/plain": [
       "array([ 1, -1,  1, ..., -1, -1,  1])"
      ]
     },
     "execution_count": 231,
     "metadata": {},
     "output_type": "execute_result"
    }
   ],
   "source": [
    "probs = train_SVM(train_data, train_labels, test_data, test_labels)"
   ]
  },
  {
   "cell_type": "code",
   "execution_count": null,
   "metadata": {},
   "outputs": [],
   "source": []
  }
 ],
 "metadata": {
  "kernelspec": {
   "display_name": "Python 3",
   "language": "python",
   "name": "python3"
  },
  "language_info": {
   "codemirror_mode": {
    "name": "ipython",
    "version": 3
   },
   "file_extension": ".py",
   "mimetype": "text/x-python",
   "name": "python",
   "nbconvert_exporter": "python",
   "pygments_lexer": "ipython3",
   "version": "3.6.7"
  }
 },
 "nbformat": 4,
 "nbformat_minor": 2
}
