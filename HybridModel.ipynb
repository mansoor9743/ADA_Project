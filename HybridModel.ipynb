{
 "cells": [
  {
   "cell_type": "code",
   "execution_count": 1,
   "metadata": {},
   "outputs": [],
   "source": [
    "## Imports\n",
    "%matplotlib inline\n",
    "import pandas as pd\n",
    "import matplotlib.pyplot as plt\n",
    "import seaborn as sns\n",
    "import numpy as np\n",
    "import folium\n",
    "import json\n",
    "import matplotlib.pyplot as plt\n",
    "import seaborn as sn\n",
    "from sklearn.model_selection import *\n",
    "from sklearn.preprocessing import *\n",
    "from sklearn.linear_model import *\n",
    "from sklearn.ensemble import *\n",
    "from sklearn.metrics import *\n",
    "from sklearn.utils import shuffle\n",
    "from sklearn.utils.class_weight import *\n",
    "from dateutil.parser import parse\n",
    "import datetime as dt\n",
    "pd.options.mode.chained_assignment = None  # default='warn'\n",
    "import vaderSentiment\n",
    "from vaderSentiment.vaderSentiment import SentimentIntensityAnalyzer\n",
    "\n",
    "from helpers import *"
   ]
  },
  {
   "cell_type": "markdown",
   "metadata": {},
   "source": [
    "# Hybrid model with meta-data and text features\n",
    "\n",
    "In this notebook we try to replicate once again the results of the authors of the paper \"“Liar, Liar Pants on Fire”: A New Benchmark Dataset for Fake News Detection\" and get some useful and interesting insights from the model trained.\n",
    "\n",
    "Given all the meta-data regarding statements and the ouput of the text classifier on the statements we trained before, we want to predict more accurately when a specific statement is more likely to be false or true (specifically, in the range of 6 different classes of truthfulness)."
   ]
  },
  {
   "cell_type": "code",
   "execution_count": 2,
   "metadata": {},
   "outputs": [],
   "source": [
    "## Define paths\n",
    "DATA_FOLDER = './data/'\n",
    "TRAIN_PATH = DATA_FOLDER + 'train.tsv'\n",
    "TEST_PATH = DATA_FOLDER + 'test.tsv'\n",
    "VALID_PATH = DATA_FOLDER + 'valid.tsv'\n",
    "\n",
    "CLEAN_TRAIN = DATA_FOLDER + \"train_clean.txt\"\n",
    "CLEAN_TEST = DATA_FOLDER + \"test_clean.txt\"\n",
    "CLEAN_VALID = DATA_FOLDER + \"valid_clean.txt\""
   ]
  },
  {
   "cell_type": "code",
   "execution_count": 3,
   "metadata": {},
   "outputs": [],
   "source": [
    "# Data Loading\n",
    "\n",
    "train_data = load_data(TRAIN_PATH)\n",
    "test_data = load_data(TEST_PATH)\n",
    "valid_data = load_data(VALID_PATH)\n",
    "\n",
    "# Convert labels in the range \n",
    "train_data.label = convert_label(train_data)\n",
    "test_data.label = convert_label(test_data)\n",
    "valid_data.label = convert_label(valid_data)"
   ]
  },
  {
   "cell_type": "code",
   "execution_count": 4,
   "metadata": {},
   "outputs": [],
   "source": [
    "train_data.label[train_data.label <= 0] = 0\n",
    "train_data.label[train_data.label > 0] = 1\n",
    "\n",
    "test_data.label[test_data.label <= 0] = 0\n",
    "test_data.label[test_data.label > 0] = 1\n",
    "\n",
    "valid_data.label[valid_data.label <= 0] = 0\n",
    "valid_data.label[valid_data.label > 0] = 1"
   ]
  },
  {
   "cell_type": "code",
   "execution_count": 5,
   "metadata": {},
   "outputs": [],
   "source": [
    "# Add sentiment analysis as a feature of the model, this can slightly improve the performance\n",
    "\n",
    "def addSAfeatures(df):\n",
    "    analyzer = SentimentIntensityAnalyzer()\n",
    "    return pd.concat([df, pd.DataFrame([analyzer.polarity_scores(l) for l in df.statement])], axis=1, sort=False)\n",
    "\n",
    "train_data = addSAfeatures(train_data)\n",
    "test_data = addSAfeatures(test_data)\n",
    "valid_data = addSAfeatures(valid_data)\n",
    "\n",
    "train_data.drop(columns=[\"ID\", \"statement\", \"barely_true_cts\", \"false_cts\", \"half_true_cts\", \"mostly_true_cts\", \"pants_on_fire_cts\"], inplace=True)\n",
    "test_data.drop(columns=[\"ID\", \"statement\", \"barely_true_cts\", \"false_cts\", \"half_true_cts\", \"mostly_true_cts\", \"pants_on_fire_cts\"], inplace=True)\n",
    "valid_data.drop(columns=[\"ID\", \"statement\", \"barely_true_cts\", \"false_cts\", \"half_true_cts\", \"mostly_true_cts\", \"pants_on_fire_cts\"], inplace=True)"
   ]
  },
  {
   "cell_type": "code",
   "execution_count": 6,
   "metadata": {},
   "outputs": [],
   "source": [
    "# Adding feature that says if the statement mentions numbers or not, since we think could be an important discriminant for saying lies\n",
    "has_num_tr = np.load(\"has_num_feat_tr.npy\")\n",
    "has_num_te = np.load(\"has_num_feat_te.npy\")\n",
    "\n",
    "train_data[\"has_num\"] = has_num_tr\n",
    "test_data[\"has_num\"] = has_num_te"
   ]
  },
  {
   "cell_type": "code",
   "execution_count": 7,
   "metadata": {},
   "outputs": [],
   "source": [
    "# Add predictions from the statement classifier based on the text of the statements\n",
    "text_pred_tr = np.load(\"st_text_out_tr.npy\")\n",
    "train_data[\"text_feat\"] = text_pred_tr\n",
    "\n",
    "text_pred_te = np.load(\"st_text_out_te.npy\")\n",
    "test_data[\"text_feat\"] = text_pred_te"
   ]
  },
  {
   "cell_type": "code",
   "execution_count": 8,
   "metadata": {},
   "outputs": [],
   "source": [
    "# Preprocess meta-data by cleaning the features and group more categories\n",
    "\n",
    "train_data = preprocess_data(train_data)\n",
    "test_data = preprocess_data(test_data)\n",
    "valid_data = preprocess_data(valid_data)"
   ]
  },
  {
   "cell_type": "code",
   "execution_count": 9,
   "metadata": {},
   "outputs": [],
   "source": [
    "# Converting in categorical variables\n",
    "\n",
    "dummy_train = pd.get_dummies(train_data)\n",
    "dummy_test = pd.get_dummies(test_data)\n",
    "dummy_valid = pd.get_dummies(valid_data)"
   ]
  },
  {
   "cell_type": "code",
   "execution_count": 10,
   "metadata": {},
   "outputs": [
    {
     "name": "stderr",
     "output_type": "stream",
     "text": [
      "/home/mikanikos/anaconda3/envs/ada/lib/python3.6/site-packages/ipykernel_launcher.py:23: FutureWarning: '.reindex_axis' is deprecated and will be removed in a future version. Use '.reindex' instead.\n"
     ]
    }
   ],
   "source": [
    "# Fitting dummy test data in order to have same size\n",
    "\n",
    "column_set = dummy_train.columns\n",
    "columns_to_fit = dummy_test.columns\n",
    "to_remove = set(columns_to_fit) - set(column_set)\n",
    "to_add = set(column_set) - set(columns_to_fit)\n",
    "\n",
    "# For each class of feature we did not find, we add this our set of features with all values as 0\n",
    "for addable in to_add:\n",
    "    dummy_test[addable] = 0\n",
    "\n",
    "# For each class new class of features, we attempt to add it an 'Other' feature if it exists\n",
    "# If not, we simply remove it\n",
    "for removable in to_remove:\n",
    "    original_name = removable.split('_')[:-1]\n",
    "    original_name.append('Other')\n",
    "    other_col = \"_\".join(original_name)\n",
    "    if dummy_test.columns.contains(other_col):\n",
    "        dummy_test[other_col] += dummy_test[removable]\n",
    "    dummy_test.drop(removable, axis=1, inplace=True)\n",
    "    \n",
    "# Need to sort columns for ordering compatability!\n",
    "dummy_test = dummy_test.reindex_axis(column_set, axis=1)"
   ]
  },
  {
   "cell_type": "code",
   "execution_count": 11,
   "metadata": {},
   "outputs": [],
   "source": [
    "# Prepare data and shuffle\n",
    "\n",
    "X_tr = dummy_train.iloc[:,1:].values\n",
    "y_tr = dummy_train.iloc[:,0].values\n",
    "X_te = dummy_test.iloc[:,1:].values\n",
    "y_te = dummy_test.iloc[:,0].values\n",
    "\n",
    "X_tr, y_tr = shuffle(X_tr, y_tr)\n",
    "X_te, y_te = shuffle(X_te, y_te)"
   ]
  },
  {
   "cell_type": "code",
   "execution_count": 12,
   "metadata": {},
   "outputs": [],
   "source": [
    "# Standardizing data\n",
    "\n",
    "std_scaler = StandardScaler()\n",
    "X_tr = std_scaler.fit_transform(X_tr)\n",
    "X_te = std_scaler.transform(X_te)"
   ]
  },
  {
   "cell_type": "code",
   "execution_count": 13,
   "metadata": {
    "scrolled": true
   },
   "outputs": [],
   "source": [
    "# Training with a Random Forest Classifier\n",
    "\n",
    "classifier = RandomForestClassifier(n_estimators = 100)\n",
    "classifier.fit(X_tr, y_tr)\n",
    "probs = classifier.predict(X_te)"
   ]
  },
  {
   "cell_type": "code",
   "execution_count": 14,
   "metadata": {},
   "outputs": [
    {
     "data": {
      "text/html": [
       "<div>\n",
       "<style scoped>\n",
       "    .dataframe tbody tr th:only-of-type {\n",
       "        vertical-align: middle;\n",
       "    }\n",
       "\n",
       "    .dataframe tbody tr th {\n",
       "        vertical-align: top;\n",
       "    }\n",
       "\n",
       "    .dataframe thead th {\n",
       "        text-align: right;\n",
       "    }\n",
       "</style>\n",
       "<table border=\"1\" class=\"dataframe\">\n",
       "  <thead>\n",
       "    <tr style=\"text-align: right;\">\n",
       "      <th>Predicted</th>\n",
       "      <th>0</th>\n",
       "      <th>1</th>\n",
       "    </tr>\n",
       "    <tr>\n",
       "      <th>Actual</th>\n",
       "      <th></th>\n",
       "      <th></th>\n",
       "    </tr>\n",
       "  </thead>\n",
       "  <tbody>\n",
       "    <tr>\n",
       "      <th>0</th>\n",
       "      <td>274</td>\n",
       "      <td>279</td>\n",
       "    </tr>\n",
       "    <tr>\n",
       "      <th>1</th>\n",
       "      <td>184</td>\n",
       "      <td>530</td>\n",
       "    </tr>\n",
       "  </tbody>\n",
       "</table>\n",
       "</div>"
      ],
      "text/plain": [
       "Predicted    0    1\n",
       "Actual             \n",
       "0          274  279\n",
       "1          184  530"
      ]
     },
     "execution_count": 14,
     "metadata": {},
     "output_type": "execute_result"
    }
   ],
   "source": [
    "# Confusion matrix\n",
    "pd.crosstab(y_te, probs, rownames=['Actual'], colnames=['Predicted'])"
   ]
  },
  {
   "cell_type": "code",
   "execution_count": 15,
   "metadata": {},
   "outputs": [
    {
     "data": {
      "text/plain": [
       "0.6345698500394633"
      ]
     },
     "execution_count": 15,
     "metadata": {},
     "output_type": "execute_result"
    }
   ],
   "source": [
    "# Accuracy\n",
    "accuracy_score(y_te, probs)"
   ]
  },
  {
   "cell_type": "code",
   "execution_count": 16,
   "metadata": {
    "scrolled": true
   },
   "outputs": [
    {
     "data": {
      "text/plain": [
       "0.6345698500394633"
      ]
     },
     "execution_count": 16,
     "metadata": {},
     "output_type": "execute_result"
    }
   ],
   "source": [
    "# F1 score\n",
    "f1_score(y_te, probs, average=\"micro\")"
   ]
  },
  {
   "cell_type": "markdown",
   "metadata": {},
   "source": [
    "The accuracy is now higher as expected."
   ]
  },
  {
   "cell_type": "markdown",
   "metadata": {},
   "source": [
    "Once again, it is also possible to notice some other interesting things, such as the contribution of all the features."
   ]
  },
  {
   "cell_type": "code",
   "execution_count": 17,
   "metadata": {},
   "outputs": [
    {
     "data": {
      "text/html": [
       "<div>\n",
       "<style scoped>\n",
       "    .dataframe tbody tr th:only-of-type {\n",
       "        vertical-align: middle;\n",
       "    }\n",
       "\n",
       "    .dataframe tbody tr th {\n",
       "        vertical-align: top;\n",
       "    }\n",
       "\n",
       "    .dataframe thead th {\n",
       "        text-align: right;\n",
       "    }\n",
       "</style>\n",
       "<table border=\"1\" class=\"dataframe\">\n",
       "  <thead>\n",
       "    <tr style=\"text-align: right;\">\n",
       "      <th></th>\n",
       "      <th>importance</th>\n",
       "    </tr>\n",
       "  </thead>\n",
       "  <tbody>\n",
       "    <tr>\n",
       "      <th>text_feat</th>\n",
       "      <td>9.222292e-02</td>\n",
       "    </tr>\n",
       "    <tr>\n",
       "      <th>neu</th>\n",
       "      <td>4.479076e-02</td>\n",
       "    </tr>\n",
       "    <tr>\n",
       "      <th>compound</th>\n",
       "      <td>4.368822e-02</td>\n",
       "    </tr>\n",
       "    <tr>\n",
       "      <th>pos</th>\n",
       "      <td>3.354218e-02</td>\n",
       "    </tr>\n",
       "    <tr>\n",
       "      <th>neg</th>\n",
       "      <td>3.126899e-02</td>\n",
       "    </tr>\n",
       "    <tr>\n",
       "      <th>has_num</th>\n",
       "      <td>1.741862e-02</td>\n",
       "    </tr>\n",
       "    <tr>\n",
       "      <th>context_Ad</th>\n",
       "      <td>1.143366e-02</td>\n",
       "    </tr>\n",
       "    <tr>\n",
       "      <th>party_democrat</th>\n",
       "      <td>8.124119e-03</td>\n",
       "    </tr>\n",
       "    <tr>\n",
       "      <th>context_News Program</th>\n",
       "      <td>7.518522e-03</td>\n",
       "    </tr>\n",
       "    <tr>\n",
       "      <th>party_republican</th>\n",
       "      <td>6.717661e-03</td>\n",
       "    </tr>\n",
       "    <tr>\n",
       "      <th>context_Speech</th>\n",
       "      <td>6.600012e-03</td>\n",
       "    </tr>\n",
       "    <tr>\n",
       "      <th>context_Debate</th>\n",
       "      <td>6.245214e-03</td>\n",
       "    </tr>\n",
       "    <tr>\n",
       "      <th>subject_health-care</th>\n",
       "      <td>5.499548e-03</td>\n",
       "    </tr>\n",
       "    <tr>\n",
       "      <th>subject_taxes</th>\n",
       "      <td>5.417248e-03</td>\n",
       "    </tr>\n",
       "    <tr>\n",
       "      <th>job_House Member</th>\n",
       "      <td>4.943874e-03</td>\n",
       "    </tr>\n",
       "    <tr>\n",
       "      <th>speaker_chain-email</th>\n",
       "      <td>4.559357e-03</td>\n",
       "    </tr>\n",
       "    <tr>\n",
       "      <th>subject_immigration</th>\n",
       "      <td>4.433251e-03</td>\n",
       "    </tr>\n",
       "    <tr>\n",
       "      <th>job_Senator</th>\n",
       "      <td>4.216364e-03</td>\n",
       "    </tr>\n",
       "    <tr>\n",
       "      <th>state_Florida</th>\n",
       "      <td>4.207196e-03</td>\n",
       "    </tr>\n",
       "    <tr>\n",
       "      <th>state_Texas</th>\n",
       "      <td>4.134788e-03</td>\n",
       "    </tr>\n",
       "    <tr>\n",
       "      <th>subject_elections</th>\n",
       "      <td>4.090708e-03</td>\n",
       "    </tr>\n",
       "    <tr>\n",
       "      <th>context_Email</th>\n",
       "      <td>4.080784e-03</td>\n",
       "    </tr>\n",
       "    <tr>\n",
       "      <th>subject_candidates-biography</th>\n",
       "      <td>3.803892e-03</td>\n",
       "    </tr>\n",
       "    <tr>\n",
       "      <th>state_Wisconsin</th>\n",
       "      <td>3.476527e-03</td>\n",
       "    </tr>\n",
       "    <tr>\n",
       "      <th>speaker_donald-trump</th>\n",
       "      <td>3.438026e-03</td>\n",
       "    </tr>\n",
       "    <tr>\n",
       "      <th>party_none</th>\n",
       "      <td>3.410397e-03</td>\n",
       "    </tr>\n",
       "    <tr>\n",
       "      <th>context_Tweet</th>\n",
       "      <td>3.307679e-03</td>\n",
       "    </tr>\n",
       "    <tr>\n",
       "      <th>subject_education</th>\n",
       "      <td>3.140862e-03</td>\n",
       "    </tr>\n",
       "    <tr>\n",
       "      <th>job_Governor</th>\n",
       "      <td>3.003432e-03</td>\n",
       "    </tr>\n",
       "    <tr>\n",
       "      <th>context_Opinion Piece/Editorial</th>\n",
       "      <td>2.925325e-03</td>\n",
       "    </tr>\n",
       "    <tr>\n",
       "      <th>...</th>\n",
       "      <td>...</td>\n",
       "    </tr>\n",
       "    <tr>\n",
       "      <th>speaker_diego-arene-morley</th>\n",
       "      <td>5.471622e-07</td>\n",
       "    </tr>\n",
       "    <tr>\n",
       "      <th>subject_income,pensions,retirement,taxes</th>\n",
       "      <td>5.461971e-07</td>\n",
       "    </tr>\n",
       "    <tr>\n",
       "      <th>speaker_donald-verrilli</th>\n",
       "      <td>5.443252e-07</td>\n",
       "    </tr>\n",
       "    <tr>\n",
       "      <th>speaker_richard-blumenthal</th>\n",
       "      <td>5.210673e-07</td>\n",
       "    </tr>\n",
       "    <tr>\n",
       "      <th>speaker_state-public-service-announcement</th>\n",
       "      <td>5.143048e-07</td>\n",
       "    </tr>\n",
       "    <tr>\n",
       "      <th>speaker_mike-plant</th>\n",
       "      <td>4.942151e-07</td>\n",
       "    </tr>\n",
       "    <tr>\n",
       "      <th>subject_Alcohol,government-regulation,legal-issues</th>\n",
       "      <td>4.937175e-07</td>\n",
       "    </tr>\n",
       "    <tr>\n",
       "      <th>subject_florida,gays-and-lesbians,human-rights,states,workers</th>\n",
       "      <td>4.908231e-07</td>\n",
       "    </tr>\n",
       "    <tr>\n",
       "      <th>speaker_national-association-realtors</th>\n",
       "      <td>4.872172e-07</td>\n",
       "    </tr>\n",
       "    <tr>\n",
       "      <th>speaker_trebor-banstetter</th>\n",
       "      <td>4.826861e-07</td>\n",
       "    </tr>\n",
       "    <tr>\n",
       "      <th>speaker_peter-shumlin</th>\n",
       "      <td>4.692734e-07</td>\n",
       "    </tr>\n",
       "    <tr>\n",
       "      <th>job_retired</th>\n",
       "      <td>4.352576e-07</td>\n",
       "    </tr>\n",
       "    <tr>\n",
       "      <th>speaker_einer-elhauge</th>\n",
       "      <td>4.202401e-07</td>\n",
       "    </tr>\n",
       "    <tr>\n",
       "      <th>subject_city-government,sports</th>\n",
       "      <td>4.191763e-07</td>\n",
       "    </tr>\n",
       "    <tr>\n",
       "      <th>job_state legislator</th>\n",
       "      <td>3.808483e-07</td>\n",
       "    </tr>\n",
       "    <tr>\n",
       "      <th>speaker_michael-schrunk</th>\n",
       "      <td>3.656084e-07</td>\n",
       "    </tr>\n",
       "    <tr>\n",
       "      <th>party_government-body</th>\n",
       "      <td>3.631317e-07</td>\n",
       "    </tr>\n",
       "    <tr>\n",
       "      <th>job_Clayton County Juvenile Court Judge</th>\n",
       "      <td>3.625189e-07</td>\n",
       "    </tr>\n",
       "    <tr>\n",
       "      <th>context_public health campaign</th>\n",
       "      <td>3.586671e-07</td>\n",
       "    </tr>\n",
       "    <tr>\n",
       "      <th>speaker_tim-sheehy</th>\n",
       "      <td>3.375996e-07</td>\n",
       "    </tr>\n",
       "    <tr>\n",
       "      <th>speaker_mickie-williams</th>\n",
       "      <td>2.869529e-07</td>\n",
       "    </tr>\n",
       "    <tr>\n",
       "      <th>subject_civil-rights,corrections-and-updates,gays-and-lesbians,marriage</th>\n",
       "      <td>2.707496e-07</td>\n",
       "    </tr>\n",
       "    <tr>\n",
       "      <th>speaker_mark-dayton</th>\n",
       "      <td>2.525394e-07</td>\n",
       "    </tr>\n",
       "    <tr>\n",
       "      <th>subject_economy,florida-amendments,taxes</th>\n",
       "      <td>2.495152e-07</td>\n",
       "    </tr>\n",
       "    <tr>\n",
       "      <th>subject_city-government,sports,taxes</th>\n",
       "      <td>2.452825e-07</td>\n",
       "    </tr>\n",
       "    <tr>\n",
       "      <th>subject_crime,marijuana,transportation</th>\n",
       "      <td>1.831027e-07</td>\n",
       "    </tr>\n",
       "    <tr>\n",
       "      <th>speaker_geraldine-thompson</th>\n",
       "      <td>1.578883e-07</td>\n",
       "    </tr>\n",
       "    <tr>\n",
       "      <th>speaker_duriya-farooqui</th>\n",
       "      <td>1.556389e-07</td>\n",
       "    </tr>\n",
       "    <tr>\n",
       "      <th>job_singer, songwriter, progressive activist</th>\n",
       "      <td>1.332925e-07</td>\n",
       "    </tr>\n",
       "    <tr>\n",
       "      <th>subject_corrections-and-updates,homeland-security,immigration</th>\n",
       "      <td>4.295718e-08</td>\n",
       "    </tr>\n",
       "  </tbody>\n",
       "</table>\n",
       "<p>8167 rows × 1 columns</p>\n",
       "</div>"
      ],
      "text/plain": [
       "                                                      importance\n",
       "text_feat                                           9.222292e-02\n",
       "neu                                                 4.479076e-02\n",
       "compound                                            4.368822e-02\n",
       "pos                                                 3.354218e-02\n",
       "neg                                                 3.126899e-02\n",
       "has_num                                             1.741862e-02\n",
       "context_Ad                                          1.143366e-02\n",
       "party_democrat                                      8.124119e-03\n",
       "context_News Program                                7.518522e-03\n",
       "party_republican                                    6.717661e-03\n",
       "context_Speech                                      6.600012e-03\n",
       "context_Debate                                      6.245214e-03\n",
       "subject_health-care                                 5.499548e-03\n",
       "subject_taxes                                       5.417248e-03\n",
       "job_House Member                                    4.943874e-03\n",
       "speaker_chain-email                                 4.559357e-03\n",
       "subject_immigration                                 4.433251e-03\n",
       "job_Senator                                         4.216364e-03\n",
       "state_Florida                                       4.207196e-03\n",
       "state_Texas                                         4.134788e-03\n",
       "subject_elections                                   4.090708e-03\n",
       "context_Email                                       4.080784e-03\n",
       "subject_candidates-biography                        3.803892e-03\n",
       "state_Wisconsin                                     3.476527e-03\n",
       "speaker_donald-trump                                3.438026e-03\n",
       "party_none                                          3.410397e-03\n",
       "context_Tweet                                       3.307679e-03\n",
       "subject_education                                   3.140862e-03\n",
       "job_Governor                                        3.003432e-03\n",
       "context_Opinion Piece/Editorial                     2.925325e-03\n",
       "...                                                          ...\n",
       "speaker_diego-arene-morley                          5.471622e-07\n",
       "subject_income,pensions,retirement,taxes            5.461971e-07\n",
       "speaker_donald-verrilli                             5.443252e-07\n",
       "speaker_richard-blumenthal                          5.210673e-07\n",
       "speaker_state-public-service-announcement           5.143048e-07\n",
       "speaker_mike-plant                                  4.942151e-07\n",
       "subject_Alcohol,government-regulation,legal-issues  4.937175e-07\n",
       "subject_florida,gays-and-lesbians,human-rights,...  4.908231e-07\n",
       "speaker_national-association-realtors               4.872172e-07\n",
       "speaker_trebor-banstetter                           4.826861e-07\n",
       "speaker_peter-shumlin                               4.692734e-07\n",
       "job_retired                                         4.352576e-07\n",
       "speaker_einer-elhauge                               4.202401e-07\n",
       "subject_city-government,sports                      4.191763e-07\n",
       "job_state legislator                                3.808483e-07\n",
       "speaker_michael-schrunk                             3.656084e-07\n",
       "party_government-body                               3.631317e-07\n",
       "job_Clayton County Juvenile Court Judge             3.625189e-07\n",
       "context_public health campaign                      3.586671e-07\n",
       "speaker_tim-sheehy                                  3.375996e-07\n",
       "speaker_mickie-williams                             2.869529e-07\n",
       "subject_civil-rights,corrections-and-updates,ga...  2.707496e-07\n",
       "speaker_mark-dayton                                 2.525394e-07\n",
       "subject_economy,florida-amendments,taxes            2.495152e-07\n",
       "subject_city-government,sports,taxes                2.452825e-07\n",
       "subject_crime,marijuana,transportation              1.831027e-07\n",
       "speaker_geraldine-thompson                          1.578883e-07\n",
       "speaker_duriya-farooqui                             1.556389e-07\n",
       "job_singer, songwriter, progressive activist        1.332925e-07\n",
       "subject_corrections-and-updates,homeland-securi...  4.295718e-08\n",
       "\n",
       "[8167 rows x 1 columns]"
      ]
     },
     "execution_count": 17,
     "metadata": {},
     "output_type": "execute_result"
    }
   ],
   "source": [
    "importances = pd.DataFrame(classifier.feature_importances_, index = dummy_train.columns[1:], columns=['importance']).sort_values('importance', ascending=False)\n",
    "importances"
   ]
  },
  {
   "cell_type": "code",
   "execution_count": 18,
   "metadata": {},
   "outputs": [
    {
     "data": {
      "text/plain": [
       "<matplotlib.axes._subplots.AxesSubplot at 0x7fb60077e7f0>"
      ]
     },
     "execution_count": 18,
     "metadata": {},
     "output_type": "execute_result"
    },
    {
     "data": {
      "image/png": "[encoded data removed]",
      "text/plain": [
       "<Figure size 432x288 with 1 Axes>"
      ]
     },
     "metadata": {
      "needs_background": "light"
     },
     "output_type": "display_data"
    }
   ],
   "source": [
    "importances.head(10).plot.bar()"
   ]
  },
  {
   "cell_type": "code",
   "execution_count": 19,
   "metadata": {},
   "outputs": [
    {
     "data": {
      "text/plain": [
       "<matplotlib.axes._subplots.AxesSubplot at 0x7fb5ff6f8828>"
      ]
     },
     "execution_count": 19,
     "metadata": {},
     "output_type": "execute_result"
    },
    {
     "data": {
      "image/png": "[encoded data removed]",
      "text/plain": [
       "<Figure size 432x288 with 1 Axes>"
      ]
     },
     "metadata": {
      "needs_background": "light"
     },
     "output_type": "display_data"
    }
   ],
   "source": [
    "importances[importances.index.str.startswith('subject')].head(10).plot.bar()"
   ]
  },
  {
   "cell_type": "code",
   "execution_count": 20,
   "metadata": {},
   "outputs": [
    {
     "data": {
      "text/plain": [
       "<matplotlib.axes._subplots.AxesSubplot at 0x7fb60be6c208>"
      ]
     },
     "execution_count": 20,
     "metadata": {},
     "output_type": "execute_result"
    },
    {
     "data": {
      "image/png": "[encoded data removed]",
      "text/plain": [
       "<Figure size 432x288 with 1 Axes>"
      ]
     },
     "metadata": {
      "needs_background": "light"
     },
     "output_type": "display_data"
    }
   ],
   "source": [
    "importances[importances.index.str.startswith('job')].head(10).plot.bar()"
   ]
  },
  {
   "cell_type": "code",
   "execution_count": 21,
   "metadata": {},
   "outputs": [
    {
     "data": {
      "text/plain": [
       "<matplotlib.axes._subplots.AxesSubplot at 0x7fb60bebef98>"
      ]
     },
     "execution_count": 21,
     "metadata": {},
     "output_type": "execute_result"
    },
    {
     "data": {
      "image/png": "[encoded data removed]",
      "text/plain": [
       "<Figure size 432x288 with 1 Axes>"
      ]
     },
     "metadata": {
      "needs_background": "light"
     },
     "output_type": "display_data"
    }
   ],
   "source": [
    "importances[importances.index.str.startswith('context')].head(10).plot.bar()"
   ]
  },
  {
   "cell_type": "code",
   "execution_count": 22,
   "metadata": {},
   "outputs": [
    {
     "data": {
      "text/plain": [
       "<matplotlib.axes._subplots.AxesSubplot at 0x7fb60063f710>"
      ]
     },
     "execution_count": 22,
     "metadata": {},
     "output_type": "execute_result"
    },
    {
     "data": {
      "image/png": "[encoded data removed]",
      "text/plain": [
       "<Figure size 432x288 with 1 Axes>"
      ]
     },
     "metadata": {
      "needs_background": "light"
     },
     "output_type": "display_data"
    }
   ],
   "source": [
    "importances[importances.index.str.startswith('state')].head(10).plot.bar()"
   ]
  },
  {
   "cell_type": "code",
   "execution_count": 23,
   "metadata": {},
   "outputs": [
    {
     "data": {
      "text/plain": [
       "<matplotlib.axes._subplots.AxesSubplot at 0x7fb5ffe78fd0>"
      ]
     },
     "execution_count": 23,
     "metadata": {},
     "output_type": "execute_result"
    },
    {
     "data": {
      "image/png": "[encoded data removed]",
      "text/plain": [
       "<Figure size 432x288 with 1 Axes>"
      ]
     },
     "metadata": {
      "needs_background": "light"
     },
     "output_type": "display_data"
    }
   ],
   "source": [
    "importances[importances.index.str.startswith('speaker')].head(10).plot.bar()"
   ]
  },
  {
   "cell_type": "code",
   "execution_count": 24,
   "metadata": {},
   "outputs": [
    {
     "data": {
      "text/plain": [
       "<matplotlib.axes._subplots.AxesSubplot at 0x7fb5ffde3c18>"
      ]
     },
     "execution_count": 24,
     "metadata": {},
     "output_type": "execute_result"
    },
    {
     "data": {
      "image/png": "[encoded data removed]",
      "text/plain": [
       "<Figure size 432x288 with 1 Axes>"
      ]
     },
     "metadata": {
      "needs_background": "light"
     },
     "output_type": "display_data"
    }
   ],
   "source": [
    "importances[importances.index.str.startswith('party')].head(10).plot.bar()"
   ]
  },
  {
   "cell_type": "markdown",
   "metadata": {},
   "source": [
    "Here we analyze the contribution of the features for some relevant classes "
   ]
  },
  {
   "cell_type": "code",
   "execution_count": 25,
   "metadata": {
    "scrolled": true
   },
   "outputs": [],
   "source": [
    "result = {}\n",
    "for cl in set(y_tr):\n",
    "    result[cl] = dict(zip(range(X_tr.shape[1]), np.mean(X_tr[y_tr==cl, :], axis=0) * classifier.feature_importances_))"
   ]
  },
  {
   "cell_type": "code",
   "execution_count": 27,
   "metadata": {},
   "outputs": [
    {
     "data": {
      "text/plain": [
       "<matplotlib.axes._subplots.AxesSubplot at 0x7fb5ffdc9d30>"
      ]
     },
     "execution_count": 27,
     "metadata": {},
     "output_type": "execute_result"
    },
    {
     "data": {
      "image/png": "[encoded data removed]",
      "text/plain": [
       "<Figure size 432x288 with 1 Axes>"
      ]
     },
     "metadata": {
      "needs_background": "light"
     },
     "output_type": "display_data"
    }
   ],
   "source": [
    "# false\n",
    "pd.DataFrame(list(result.get(0).values()), index = dummy_train.columns[1:], columns=['barely-true']).sort_values('barely-true', ascending=False).head(10).plot.bar()"
   ]
  },
  {
   "cell_type": "code",
   "execution_count": 28,
   "metadata": {},
   "outputs": [
    {
     "data": {
      "text/plain": [
       "<matplotlib.axes._subplots.AxesSubplot at 0x7fb5ffa5afd0>"
      ]
     },
     "execution_count": 28,
     "metadata": {},
     "output_type": "execute_result"
    },
    {
     "data": {
      "image/png": "[encoded data removed]",
      "text/plain": [
       "<Figure size 432x288 with 1 Axes>"
      ]
     },
     "metadata": {
      "needs_background": "light"
     },
     "output_type": "display_data"
    }
   ],
   "source": [
    "# true\n",
    "pd.DataFrame(list(result.get(1).values()), index = dummy_train.columns[1:], columns=['half-true']).sort_values('half-true', ascending=False).head(10).plot.bar()"
   ]
  },
  {
   "cell_type": "code",
   "execution_count": null,
   "metadata": {},
   "outputs": [],
   "source": []
  }
 ],
 "metadata": {
  "kernelspec": {
   "display_name": "Python 3",
   "language": "python",
   "name": "python3"
  },
  "language_info": {
   "codemirror_mode": {
    "name": "ipython",
    "version": 3
   },
   "file_extension": ".py",
   "mimetype": "text/x-python",
   "name": "python",
   "nbconvert_exporter": "python",
   "pygments_lexer": "ipython3",
   "version": "3.6.7"
  }
 },
 "nbformat": 4,
 "nbformat_minor": 2
}
